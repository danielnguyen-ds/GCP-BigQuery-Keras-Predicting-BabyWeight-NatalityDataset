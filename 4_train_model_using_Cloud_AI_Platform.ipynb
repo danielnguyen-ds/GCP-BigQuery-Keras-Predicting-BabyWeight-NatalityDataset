{
 "cells": [
  {
   "cell_type": "markdown",
   "source": [
    "# 4_train_model_on_Cloud_AI_Platform\n",
    "Once we've already built a good `Wide and Deep model` on a subset of the dataset (`2_prototype_model.ipynb`) and created a clean full dataset as CSV files (`3_create_ML_dataset_using_Dataflow.ipynb`), we can now train the model on the full dataset. In this notebook, we'll do so by using [Cloud AI Platform](https://console.cloud.google.com/ai-platform). \n",
    "\n",
    "Training on Cloud AI Platform requires:\n",
    "* Making the code a Python package\n",
    "* Using `gcloud` to submit the training code to Cloud AI Platform"
   ],
   "metadata": {
    "id": "QBImL0ocX-rW"
   }
  },
  {
   "cell_type": "markdown",
   "source": [
    "## Set up environment variables and load necessary libraries"
   ],
   "metadata": {
    "id": "hJ7ByvoXzpVI"
   }
  },
  {
   "cell_type": "code",
   "execution_count": 1,
   "source": [
    "!pip3 install cloudml-hypertune"
   ],
   "outputs": [
    {
     "output_type": "stream",
     "name": "stdout",
     "text": [
      "Requirement already satisfied: cloudml-hypertune in /opt/conda/lib/python3.7/site-packages (0.1.0.dev6)\n"
     ]
    }
   ],
   "metadata": {
    "id": "DA6aav4oX-ra"
   }
  },
  {
   "cell_type": "code",
   "execution_count": 2,
   "source": [
    "import os\n",
    "import numpy as np\n",
    "import tensorflow as tf\n",
    "print(tf.__version__)"
   ],
   "outputs": [
    {
     "output_type": "stream",
     "name": "stdout",
     "text": [
      "2.3.4\n"
     ]
    }
   ],
   "metadata": {
    "id": "x7cQD-gyX-rb"
   }
  },
  {
   "cell_type": "code",
   "execution_count": 3,
   "source": [
    "PROJECT = \"predict-babyweight-10142021\"\n",
    "BUCKET = PROJECT\n",
    "REGION = \"us-central1\"\n",
    "\n",
    "os.environ[\"PROJECT\"] = PROJECT\n",
    "os.environ[\"BUCKET\"] = BUCKET \n",
    "os.environ[\"REGION\"] = REGION\n",
    "os.environ[\"TFVERSION\"] = \"2.1\"\n",
    "os.environ[\"PYTHONVERSION\"] = \"3.7\""
   ],
   "outputs": [],
   "metadata": {
    "id": "_p_rtL82X-rb"
   }
  },
  {
   "cell_type": "markdown",
   "source": [
    "## Package the TensorFlow code up as a Python package"
   ],
   "metadata": {}
  },
  {
   "cell_type": "markdown",
   "source": [
    "A Python package is simply a collection of one or more `.py` files along with an `__init__.py` file. Here, we're going to make a Python package named `trainer` that includes three `.py` files: \n",
    "- `__init__.py`: is used to mark directories on disk as Python package directories. In our case, we make it empty.\n",
    "- `task.py`: contains parameters of our model to pass as flags during training using the `parser` module\n",
    "- `model.py`: contains the code we wrote for the Wide & Deep model."
   ],
   "metadata": {
    "id": "9qLVhSk0X-rd"
   }
  },
  {
   "cell_type": "code",
   "execution_count": 4,
   "source": [
    "%%bash\n",
    "mkdir -p trainer\n",
    "touch trainer/__init__.py"
   ],
   "outputs": [],
   "metadata": {
    "id": "_nOEnSXmX-rd"
   }
  },
  {
   "cell_type": "markdown",
   "source": [
    "We then use the `%%writefile` magic to write the contents of the cell below to a file called `task.py` in the `babyweight/trainer` folder."
   ],
   "metadata": {
    "id": "-XUrkTIPX-rd",
    "tags": []
   }
  },
  {
   "cell_type": "markdown",
   "source": [
    "### Create `task.py` file to hold hyperparameter argparsing code."
   ],
   "metadata": {
    "id": "XBECc8MYX-re"
   }
  },
  {
   "cell_type": "code",
   "execution_count": 5,
   "source": [
    "%%writefile trainer/task.py\n",
    "import argparse\n",
    "import json\n",
    "import os\n",
    "\n",
    "from trainer import model\n",
    "\n",
    "import tensorflow as tf\n",
    "\n",
    "if __name__ == \"__main__\":\n",
    "    parser = argparse.ArgumentParser()\n",
    "    parser.add_argument(\n",
    "        \"--job-dir\",\n",
    "        help=\"this model ignores this field, but it is required by gcloud\",\n",
    "        default=\"junk\"\n",
    "    )\n",
    "    parser.add_argument(\n",
    "        \"--train_data_path\",\n",
    "        help=\"GCS location of training data\",\n",
    "        required=True\n",
    "    )\n",
    "    parser.add_argument(\n",
    "        \"--eval_data_path\",\n",
    "        help=\"GCS location of evaluation data\",\n",
    "        required=True\n",
    "    )\n",
    "    parser.add_argument(\n",
    "        \"--output_dir\",\n",
    "        help=\"GCS location to write checkpoints and export models\",\n",
    "        required=True\n",
    "    )\n",
    "    parser.add_argument(\n",
    "        \"--batch_size\",\n",
    "        help=\"Number of examples to compute gradient over.\",\n",
    "        type=int,\n",
    "        default=512\n",
    "    )\n",
    "    parser.add_argument(\n",
    "        \"--nnsize\",\n",
    "        help=\"Hidden layer sizes for DNN -- provide space-separated layers\",\n",
    "        nargs=\"+\",\n",
    "        type=int,\n",
    "        default=[128, 32, 4]\n",
    "    )\n",
    "    parser.add_argument(\n",
    "        \"--nembeds\",\n",
    "        help=\"Embedding size of a cross of n key real-valued parameters\",\n",
    "        type=int,\n",
    "        default=3\n",
    "    )\n",
    "    parser.add_argument(\n",
    "        \"--num_epochs\",\n",
    "        help=\"Number of epochs to train the model.\",\n",
    "        type=int,\n",
    "        default=10\n",
    "    )\n",
    "    parser.add_argument(\n",
    "        \"--train_examples\",\n",
    "        help=\"\"\"Number of examples (in thousands) to run the training job over.\n",
    "        If this is more than actual # of examples available, it cycles through\n",
    "        them. So specifying 1000 here when we have only 100k examples makes\n",
    "        this 10 epochs.\"\"\",\n",
    "        type=int,\n",
    "        default=5000\n",
    "    )\n",
    "    parser.add_argument(\n",
    "        \"--eval_steps\",\n",
    "        help=\"\"\"Positive number of steps for which to evaluate model. Default\n",
    "        to None, which means to evaluate until input_fn raises an end-of-input\n",
    "        exception\"\"\",\n",
    "        type=int,\n",
    "        default=None\n",
    "    )\n",
    "\n",
    "    # Parse all arguments\n",
    "    args = parser.parse_args()\n",
    "    arguments = args.__dict__\n",
    "\n",
    "    # Unused args provided by service\n",
    "    arguments.pop(\"job_dir\", None)\n",
    "    arguments.pop(\"job-dir\", None)\n",
    "\n",
    "    # Modify some arguments\n",
    "    arguments[\"train_examples\"] *= 1000\n",
    "\n",
    "    # Append trial_id to path if we are doing hptuning\n",
    "    # This code can be removed if we are not using hyperparameter tuning\n",
    "    arguments[\"output_dir\"] = os.path.join(\n",
    "        arguments[\"output_dir\"],\n",
    "        json.loads(\n",
    "            os.environ.get(\"TF_CONFIG\", \"{}\")\n",
    "        ).get(\"task\", {}).get(\"trial\", \"\")\n",
    "    )\n",
    "\n",
    "    # Run the training job\n",
    "    model.train_and_evaluate(arguments)"
   ],
   "outputs": [
    {
     "output_type": "stream",
     "name": "stdout",
     "text": [
      "Overwriting trainer/task.py\n"
     ]
    }
   ],
   "metadata": {
    "id": "lL4qL7svX-re"
   }
  },
  {
   "cell_type": "markdown",
   "source": [
    "### Create trainer module's model.py to hold Keras model code.\n",
    "\n",
    "To create our `model.py`, we'll use the code we wrote for the Wide & Deep model."
   ],
   "metadata": {
    "id": "qvFpnTe-X-rf"
   }
  },
  {
   "cell_type": "code",
   "execution_count": 6,
   "source": [
    "%%writefile trainer/model.py\n",
    "import datetime\n",
    "import os\n",
    "import shutil\n",
    "import numpy as np\n",
    "import tensorflow as tf\n",
    "import hypertune\n",
    "\n",
    "# Determine CSV, label, and key columns\n",
    "CSV_COLUMNS = [\"weight_pounds\",\n",
    "               \"is_male\",\n",
    "               \"mother_age\",\n",
    "               \"plurality\",\n",
    "               \"gestation_weeks\",\n",
    "               \"cigarette_use\",\n",
    "               \"alcohol_use\"]\n",
    "LABEL_COLUMN = \"weight_pounds\"\n",
    "\n",
    "# Set default values for each CSV column.\n",
    "DEFAULTS = [[0.0], [\"null\"], [0.0], [\"null\"], [0.0], [\"null\"], [\"null\"]]\n",
    "\n",
    "# Make dataset of features and label from CSV files\n",
    "def features_and_labels(row_data):\n",
    "    \"\"\"Splits features and labels from feature dictionary.\n",
    "    \"\"\"\n",
    "    label = row_data.pop(LABEL_COLUMN)\n",
    "    return row_data, label  # features, label\n",
    "\n",
    "\n",
    "def load_dataset(pattern, batch_size=1, mode='eval'):\n",
    "    \"\"\"Loads dataset using the tf.data API from CSV files.\n",
    "    \"\"\"\n",
    "    # Make a CSV dataset\n",
    "    dataset = tf.data.experimental.make_csv_dataset(\n",
    "        file_pattern=pattern,\n",
    "        batch_size=batch_size,\n",
    "        column_names=CSV_COLUMNS,\n",
    "        column_defaults=DEFAULTS,\n",
    "        ignore_errors=True)\n",
    "\n",
    "    # Map dataset to features and label\n",
    "    dataset = dataset.map(map_func=features_and_labels)  # features, label\n",
    "\n",
    "    # Shuffle and repeat for training\n",
    "    if mode == 'train':\n",
    "        dataset = dataset.shuffle(buffer_size=1000).repeat()\n",
    "\n",
    "    # Take advantage of multi-threading; 1=AUTOTUNE\n",
    "    dataset = dataset.prefetch(buffer_size=1)\n",
    "\n",
    "    return dataset\n",
    "\n",
    "\n",
    "# Create input layers for raw features.\n",
    "def create_input_layers():\n",
    "    \"\"\"Creates dictionary of input layers for each feature.\n",
    "    \"\"\"\n",
    "    deep_inputs = {\n",
    "        colname: tf.keras.layers.Input(name=colname, shape=(), dtype=\"float32\")\n",
    "        for colname in [\"mother_age\", \"gestation_weeks\"]\n",
    "    }\n",
    "\n",
    "    wide_inputs = {\n",
    "        colname: tf.keras.layers.Input(name=colname, shape=(), dtype=\"string\")\n",
    "        for colname in [\"is_male\", \"plurality\", \"cigarette_use\", \"alcohol_use\"]\n",
    "    }\n",
    "\n",
    "    inputs = {**wide_inputs, **deep_inputs}\n",
    "\n",
    "    return inputs\n",
    "\n",
    "\n",
    "# Create feature columns for inputs.\n",
    "def categorical_fc(name, values):\n",
    "    \"\"\"Helper function to wrap categorical feature by indicator column.\n",
    "    \"\"\"\n",
    "    cat_column = tf.feature_column.categorical_column_with_vocabulary_list(\n",
    "            key=name, vocabulary_list=values)\n",
    "    ind_column = tf.feature_column.indicator_column(categorical_column=cat_column)\n",
    "\n",
    "    return cat_column, ind_column\n",
    "\n",
    "\n",
    "def create_feature_columns(nembeds):\n",
    "    \"\"\"Creates wide and deep dictionaries of feature columns from inputs.\n",
    "    \"\"\"\n",
    "    deep_fc = {\n",
    "        colname: tf.feature_column.numeric_column(key=colname)\n",
    "        for colname in [\"mother_age\", \"gestation_weeks\"]\n",
    "    }\n",
    "    wide_fc = {}\n",
    "    is_male, wide_fc[\"is_male\"] = categorical_fc(\"is_male\", \n",
    "                                                 [\"true\", \"false\", \"Unknown\"])\n",
    "    cigarette_use, wide_fc[\"cigarette_use\"] = categorical_fc(\"cigarette_use\", \n",
    "                                                             [\"true\", \"false\", \"Unknown\"])\n",
    "    alcohol_use, wide_fc[\"alcohol_use\"] = categorical_fc(\"alcohol_use\", \n",
    "                                                         [\"true\", \"false\", \"Unknown\"])\n",
    "    plurality, wide_fc[\"plurality\"] = categorical_fc(\"plurality\", \n",
    "                                                     [\"Single(1)\", \"Twins(2)\", \"Triplets(3)\",\n",
    "                                                      \"Quadruplets(4)\", \"Quintuplets(5)\", \"Multiple(2+)\"])\n",
    "\n",
    "    # Bucketize the float fields. This makes them wide\n",
    "    age_buckets = tf.feature_column.bucketized_column(\n",
    "        source_column=deep_fc[\"mother_age\"],\n",
    "        boundaries=np.arange(15, 45, 1).tolist())\n",
    "    wide_fc[\"age_buckets\"] = tf.feature_column.indicator_column(\n",
    "        categorical_column=age_buckets)\n",
    "\n",
    "    gestation_buckets = tf.feature_column.bucketized_column(\n",
    "        source_column=deep_fc[\"gestation_weeks\"],\n",
    "        boundaries=np.arange(17, 47, 1).tolist())\n",
    "    wide_fc[\"gestation_buckets\"] = tf.feature_column.indicator_column(\n",
    "        categorical_column=gestation_buckets)\n",
    "\n",
    "    # Cross all the wide columns, have to do the crossing before we one-hot\n",
    "    crossed = tf.feature_column.crossed_column(\n",
    "        keys=[age_buckets, gestation_buckets],\n",
    "        hash_bucket_size=1000)\n",
    "    deep_fc[\"crossed_embeds\"] = tf.feature_column.embedding_column(\n",
    "        categorical_column=crossed, dimension=nembeds)\n",
    "\n",
    "    return wide_fc, deep_fc\n",
    "\n",
    "\n",
    "# Create DNN dense hidden layers and output layer.\n",
    "def get_model_outputs(wide_inputs, deep_inputs, dnn_hidden_units):\n",
    "    \"\"\"Creates model architecture and returns outputs.\n",
    "    \"\"\"\n",
    "    # Hidden layers for the deep side\n",
    "    layers = [int(x) for x in dnn_hidden_units]\n",
    "    deep = deep_inputs\n",
    "    for layerno, numnodes in enumerate(layers):\n",
    "        deep = tf.keras.layers.Dense(units=numnodes,\n",
    "                                     activation=\"relu\",\n",
    "                                     name=f\"dnn_{layerno+1}\")(deep)\n",
    "    deep_out = deep\n",
    "\n",
    "    # Linear model for the wide side\n",
    "    wide_out = tf.keras.layers.Dense(\n",
    "        units=10, activation=\"relu\", name=\"linear\")(wide_inputs)\n",
    "\n",
    "    # Concatenate the two sides\n",
    "    both = tf.keras.layers.concatenate(\n",
    "        inputs=[deep_out, wide_out], name=\"both\")\n",
    "\n",
    "    # Final output is a linear activation because this is regression\n",
    "    output = tf.keras.layers.Dense(\n",
    "        units=1, activation=\"linear\", name=\"weight\")(both)\n",
    "\n",
    "    return output\n",
    "\n",
    "\n",
    "# Create custom evaluation metric\n",
    "def rmse(y_true, y_pred):\n",
    "    \"\"\"Calculates RMSE evaluation metric.\n",
    "    \"\"\"\n",
    "    return tf.sqrt(tf.reduce_mean(tf.square(y_pred - y_true)))\n",
    "\n",
    "def r_squared(y, y_pred):\n",
    "    \"\"\"Calculates R^2 evaluation metric.\n",
    "    \"\"\"\n",
    "    residual = tf.reduce_sum(tf.square(tf.subtract(y, y_pred)))\n",
    "    total = tf.reduce_sum(tf.square(tf.subtract(y, tf.reduce_mean(y))))\n",
    "    r2 = tf.subtract(1.0, tf.divide(residual, total))\n",
    "    return r2\n",
    "\n",
    "# Build DNN model tying all of the pieces together\n",
    "def build_wide_deep_model(dnn_hidden_units=[64, 32], nembeds=3):\n",
    "    \"\"\"Builds wide and deep model using Keras Functional API.\n",
    "    \"\"\"\n",
    "    # Create input layers\n",
    "    inputs = create_input_layers()\n",
    "\n",
    "    # Create feature columns for both wide and deep\n",
    "    wide_fc, deep_fc = create_feature_columns(nembeds)\n",
    "\n",
    "    # The constructor for DenseFeatures takes a list of numeric columns\n",
    "    # The Functional API in Keras requires: LayerConstructor()(inputs)\n",
    "    wide_inputs = tf.keras.layers.DenseFeatures(\n",
    "        feature_columns=wide_fc.values(), name=\"wide_inputs\")(inputs)\n",
    "    deep_inputs = tf.keras.layers.DenseFeatures(\n",
    "        feature_columns=deep_fc.values(), name=\"deep_inputs\")(inputs)\n",
    "\n",
    "    # Get output of model given inputs\n",
    "    output = get_model_outputs(wide_inputs, deep_inputs, dnn_hidden_units)\n",
    "\n",
    "    # Build model and compile it all together\n",
    "    model = tf.keras.models.Model(inputs=inputs, outputs=output)\n",
    "    model.compile(optimizer=\"adam\", loss=\"mse\", metrics=[\"mse\",rmse, r_squared])\n",
    "\n",
    "    return model\n",
    "\n",
    "\n",
    "# Train and evaluate\n",
    "def train_and_evaluate(args):\n",
    "    model = build_wide_deep_model(args[\"nnsize\"], args[\"nembeds\"])\n",
    "    print(\"*** Here is our Wide-and-Deep architecture so far:\\n\")\n",
    "    print(model.summary())\n",
    "\n",
    "    trainds = load_dataset(args[\"train_data_path\"],args[\"batch_size\"],'train')\n",
    "    evalds = load_dataset(args[\"eval_data_path\"], 1000, 'eval')\n",
    "    if args[\"eval_steps\"]:\n",
    "        evalds = evalds.take(count=args[\"eval_steps\"])\n",
    "\n",
    "    num_batches = args[\"batch_size\"] * args[\"num_epochs\"]\n",
    "    steps_per_epoch = args[\"train_examples\"] // num_batches\n",
    "    \n",
    "    checkpoint_path = os.path.join(args[\"output_dir\"], \"checkpoints/babyweight\")\n",
    "    cp_callback = tf.keras.callbacks.ModelCheckpoint(\n",
    "        filepath=checkpoint_path, verbose=1, save_weights_only=True)\n",
    "\n",
    "    history = model.fit(\n",
    "        trainds,\n",
    "        validation_data=evalds,\n",
    "        epochs=args[\"num_epochs\"],\n",
    "        steps_per_epoch=steps_per_epoch,\n",
    "        verbose=2,  # 0=silent, 1=progress bar, 2=one line per epoch\n",
    "        callbacks=[cp_callback])\n",
    "\n",
    "    EXPORT_PATH = os.path.join(\n",
    "        args[\"output_dir\"], datetime.datetime.now().strftime(\"%Y%m%d%H%M%S\"))\n",
    "    tf.saved_model.save(obj=model, export_dir=EXPORT_PATH)  # with default serving function\n",
    "    \n",
    "    hp_metric = history.history['val_rmse'][-1]\n",
    "\n",
    "    hpt = hypertune.HyperTune()\n",
    "    hpt.report_hyperparameter_tuning_metric(\n",
    "        hyperparameter_metric_tag='rmse',\n",
    "        metric_value=hp_metric,\n",
    "        global_step=args['num_epochs'])\n",
    "\n",
    "    print(f\"*** Exported trained model to {EXPORT_PATH}\")"
   ],
   "outputs": [
    {
     "output_type": "stream",
     "name": "stdout",
     "text": [
      "Overwriting trainer/model.py\n"
     ]
    }
   ],
   "metadata": {
    "id": "HSWHGx4MX-rf"
   }
  },
  {
   "cell_type": "markdown",
   "source": [
    "## Run trainer module package locally\n",
    "\n",
    "After moving the code to a package, make sure it works as a standalone. We can run a very small training job over a single file with a small batch size, 1 epoch, 1 train example, and 1 eval step.\n",
    "\n",
    "Note, even for this small subset, this takes about *5 minutes* to finish (no output) ..."
   ],
   "metadata": {
    "id": "ZsD8y_1cX-ri"
   }
  },
  {
   "cell_type": "code",
   "execution_count": 7,
   "source": [
    "%%bash\n",
    "OUTDIR=model_trained_locally\n",
    "rm -rf ${OUTDIR}\n",
    "export PYTHONPATH=${PYTHONPATH}:${PWD}\n",
    "python3 -m trainer.task \\\n",
    "    --job-dir=./tmp \\\n",
    "    --train_data_path=gs://predict-babyweight-10142021/datasets_preprocessed_Dataflow/train.csv*  \\\n",
    "    --eval_data_path=gs://predict-babyweight-10142021/datasets_preprocessed_Dataflow/eval.csv*  \\\n",
    "    --output_dir=${OUTDIR} \\\n",
    "    --batch_size=10 \\\n",
    "    --num_epochs=1 \\\n",
    "    --train_examples=1 \\\n",
    "    --eval_steps=1"
   ],
   "outputs": [
    {
     "output_type": "stream",
     "name": "stdout",
     "text": [
      "*** Here is our Wide-and-Deep architecture so far:\n",
      "\n",
      "Model: \"functional_1\"\n",
      "__________________________________________________________________________________________________\n",
      "Layer (type)                    Output Shape         Param #     Connected to                     \n",
      "==================================================================================================\n",
      "alcohol_use (InputLayer)        [(None,)]            0                                            \n",
      "__________________________________________________________________________________________________\n",
      "cigarette_use (InputLayer)      [(None,)]            0                                            \n",
      "__________________________________________________________________________________________________\n",
      "gestation_weeks (InputLayer)    [(None,)]            0                                            \n",
      "__________________________________________________________________________________________________\n",
      "is_male (InputLayer)            [(None,)]            0                                            \n",
      "__________________________________________________________________________________________________\n",
      "mother_age (InputLayer)         [(None,)]            0                                            \n",
      "__________________________________________________________________________________________________\n",
      "plurality (InputLayer)          [(None,)]            0                                            \n",
      "__________________________________________________________________________________________________\n",
      "deep_inputs (DenseFeatures)     (None, 5)            3000        alcohol_use[0][0]                \n",
      "                                                                 cigarette_use[0][0]              \n",
      "                                                                 gestation_weeks[0][0]            \n",
      "                                                                 is_male[0][0]                    \n",
      "                                                                 mother_age[0][0]                 \n",
      "                                                                 plurality[0][0]                  \n",
      "__________________________________________________________________________________________________\n",
      "dnn_1 (Dense)                   (None, 128)          768         deep_inputs[0][0]                \n",
      "__________________________________________________________________________________________________\n",
      "dnn_2 (Dense)                   (None, 32)           4128        dnn_1[0][0]                      \n",
      "__________________________________________________________________________________________________\n",
      "wide_inputs (DenseFeatures)     (None, 77)           0           alcohol_use[0][0]                \n",
      "                                                                 cigarette_use[0][0]              \n",
      "                                                                 gestation_weeks[0][0]            \n",
      "                                                                 is_male[0][0]                    \n",
      "                                                                 mother_age[0][0]                 \n",
      "                                                                 plurality[0][0]                  \n",
      "__________________________________________________________________________________________________\n",
      "dnn_3 (Dense)                   (None, 4)            132         dnn_2[0][0]                      \n",
      "__________________________________________________________________________________________________\n",
      "linear (Dense)                  (None, 10)           780         wide_inputs[0][0]                \n",
      "__________________________________________________________________________________________________\n",
      "both (Concatenate)              (None, 14)           0           dnn_3[0][0]                      \n",
      "                                                                 linear[0][0]                     \n",
      "__________________________________________________________________________________________________\n",
      "weight (Dense)                  (None, 1)            15          both[0][0]                       \n",
      "==================================================================================================\n",
      "Total params: 8,823\n",
      "Trainable params: 8,823\n",
      "Non-trainable params: 0\n",
      "__________________________________________________________________________________________________\n",
      "None\n",
      "\n",
      "Epoch 00001: saving model to model_trained_locally/checkpoints/babyweight\n",
      "100/100 - 2s - loss: 1.4068 - mse: 1.4068 - rmse: 1.1361 - r_squared: -5.7647e-01 - val_loss: 4.2080 - val_mse: 4.2080 - val_rmse: 2.0513 - val_r_squared: 0.2955\n",
      "*** Exported trained model to model_trained_locally/20211023063818\n"
     ]
    },
    {
     "output_type": "stream",
     "name": "stderr",
     "text": [
      "2021-10-23 06:38:13.282863: I tensorflow/core/platform/profile_utils/cpu_utils.cc:104] CPU Frequency: 2199995000 Hz\n",
      "2021-10-23 06:38:13.283384: I tensorflow/compiler/xla/service/service.cc:168] XLA service 0x5626c3c7be40 initialized for platform Host (this does not guarantee that XLA will be used). Devices:\n",
      "2021-10-23 06:38:13.283444: I tensorflow/compiler/xla/service/service.cc:176]   StreamExecutor device (0): Host, Default Version\n",
      "2021-10-23 06:38:13.283641: I tensorflow/core/common_runtime/process_util.cc:146] Creating new thread pool with default inter op setting: 2. Tune using inter_op_parallelism_threads for best performance.\n",
      "WARNING:tensorflow:From /opt/conda/lib/python3.7/site-packages/tensorflow/python/training/tracking/tracking.py:111: Model.state_updates (from tensorflow.python.keras.engine.training) is deprecated and will be removed in a future version.\n",
      "Instructions for updating:\n",
      "This property should not be used in TensorFlow 2.0, as updates are applied automatically.\n",
      "2021-10-23 06:38:19.431031: W tensorflow/python/util/util.cc:348] Sets are not currently considered sequences, but this may change in the future, so consider avoiding using them.\n",
      "WARNING:tensorflow:From /opt/conda/lib/python3.7/site-packages/tensorflow/python/training/tracking/tracking.py:111: Layer.updates (from tensorflow.python.keras.engine.base_layer) is deprecated and will be removed in a future version.\n",
      "Instructions for updating:\n",
      "This property should not be used in TensorFlow 2.0, as updates are applied automatically.\n"
     ]
    }
   ],
   "metadata": {
    "id": "_UAkRPLxX-rk"
   }
  },
  {
   "cell_type": "markdown",
   "source": [
    "## Training on Cloud AI Platform\n",
    "\n",
    "Now that we see everything is working locally, it's time to train on the cloud! "
   ],
   "metadata": {
    "id": "MPyebNQIX-rk"
   }
  },
  {
   "cell_type": "markdown",
   "source": [
    "To submit to the Cloud we use [`gcloud ai-platform jobs submit training [jobname]`](https://cloud.google.com/sdk/gcloud/reference/ml-engine/jobs/submit/training) and simply specify some additional parameters for AI Platform Training Service:\n",
    "- jobname: A unique identifier for the Cloud job. We usually append system time to ensure uniqueness\n",
    "- job-dir: A GCS location to upload the Python package to\n",
    "- runtime-version: Version of TF to use.\n",
    "- python-version: Version of Python to use. Currently only Python 3.7 is supported for TF 2.1.\n",
    "- region: Cloud region to train in. See [here](https://cloud.google.com/ml-engine/docs/tensorflow/regions) for supported AI Platform Training Service regions\n",
    "\n",
    "Below the `-- \\` we add in the arguments for our `task.py` file."
   ],
   "metadata": {
    "id": "zxKPPAAqX-rl"
   }
  },
  {
   "cell_type": "code",
   "execution_count": 8,
   "source": [
    "%%bash\n",
    "\n",
    "OUTDIR=gs://${BUCKET}/model_trained_Dataflow\n",
    "JOBID=babyweight_$(date -u +%y%m%d_%H%M%S)\n",
    "\n",
    "gcloud ai-platform jobs submit training ${JOBID} \\\n",
    "    --region=${REGION} \\\n",
    "    --module-name=trainer.task \\\n",
    "    --package-path=$(pwd)/trainer \\\n",
    "    --job-dir=${OUTDIR} \\\n",
    "    --staging-bucket=gs://${BUCKET} \\\n",
    "    --master-machine-type=n1-standard-8 \\\n",
    "    --scale-tier=CUSTOM \\\n",
    "    --runtime-version=${TFVERSION} \\\n",
    "    --python-version=${PYTHONVERSION} \\\n",
    "    -- \\\n",
    "    --train_data_path=gs://predict-babyweight-10142021/datasets_preprocessed_Dataflow/train.csv*  \\\n",
    "    --eval_data_path=gs://predict-babyweight-10142021/datasets_preprocessed_Dataflow/eval.csv*  \\\n",
    "    --output_dir=${OUTDIR} \\\n",
    "    --num_epochs=10 \\\n",
    "    --train_examples=10000 \\\n",
    "    --eval_steps=100 \\\n",
    "    --batch_size=32 \\\n",
    "    --nembeds=8"
   ],
   "outputs": [
    {
     "output_type": "stream",
     "name": "stdout",
     "text": [
      "jobId: babyweight_211023_064139\n",
      "state: QUEUED\n"
     ]
    },
    {
     "output_type": "stream",
     "name": "stderr",
     "text": [
      "Job [babyweight_211023_064139] submitted successfully.\n",
      "Your job is still active. You may view the status of your job with the command\n",
      "\n",
      "  $ gcloud ai-platform jobs describe babyweight_211023_064139\n",
      "\n",
      "or continue streaming the logs with the command\n",
      "\n",
      "  $ gcloud ai-platform jobs stream-logs babyweight_211023_064139\n"
     ]
    }
   ],
   "metadata": {
    "id": "mX3TEWOiX-rl"
   }
  },
  {
   "cell_type": "markdown",
   "source": [
    "The training job should complete within 10 to 15 minutes. Once it's done, we can check the directory structure of the outputs of our trained model."
   ],
   "metadata": {
    "id": "MpBHAJqjX-rl"
   }
  },
  {
   "cell_type": "code",
   "execution_count": 9,
   "source": [
    "%%bash\n",
    "gsutil ls gs://${BUCKET}/model_trained_Dataflow"
   ],
   "outputs": [
    {
     "output_type": "stream",
     "name": "stdout",
     "text": [
      "gs://predict-babyweight-10142021/model_trained_Dataflow/\n",
      "gs://predict-babyweight-10142021/model_trained_Dataflow/20211023065439/\n",
      "gs://predict-babyweight-10142021/model_trained_Dataflow/checkpoints/\n"
     ]
    }
   ],
   "metadata": {}
  },
  {
   "cell_type": "markdown",
   "source": [
    "## Hyperparameter tuning\n",
    "To do hyperparameter tuning, create `hyperparam/hyperparam.yaml` and pass it as `--config hyperparam.yaml` as submitting a training job on Cloud AI Platform."
   ],
   "metadata": {}
  },
  {
   "cell_type": "code",
   "execution_count": 10,
   "source": [
    "%%writefile hyperparam/hyperparam.yaml\n",
    "trainingInput:\n",
    "    scaleTier: STANDARD_1\n",
    "    hyperparameters:\n",
    "        hyperparameterMetricTag: rmse\n",
    "        goal: MINIMIZE\n",
    "        maxTrials: 20\n",
    "        maxParallelTrials: 5\n",
    "        enableTrialEarlyStopping: True\n",
    "        params:\n",
    "        - parameterName: batch_size\n",
    "          type: INTEGER\n",
    "          minValue: 8\n",
    "          maxValue: 512\n",
    "          scaleType: UNIT_LOG_SCALE\n",
    "        - parameterName: nembeds\n",
    "          type: INTEGER\n",
    "          minValue: 3\n",
    "          maxValue: 30\n",
    "          scaleType: UNIT_LINEAR_SCALE\n",
    "        - parameterName: nnsize\n",
    "          type: INTEGER\n",
    "          minValue: 64\n",
    "          maxValue: 512\n",
    "          scaleType: UNIT_LOG_SCALE"
   ],
   "outputs": [
    {
     "output_type": "stream",
     "name": "stdout",
     "text": [
      "Overwriting hyperparam.yaml\n"
     ]
    }
   ],
   "metadata": {}
  },
  {
   "cell_type": "code",
   "execution_count": 11,
   "source": [
    "%%bash\n",
    "\n",
    "OUTDIR=gs://${BUCKET}/hyperparam\n",
    "JOBID=babyweight_$(date -u +%y%m%d_%H%M%S)\n",
    "echo $OUTDIR $REGION $JOBID\n",
    "gsutil -m rm -rf $OUTDIR\n",
    "\n",
    "gcloud ai-platform jobs submit training ${JOBID} \\\n",
    "    --region=${REGION} \\\n",
    "    --module-name=trainer.task \\\n",
    "    --package-path=$(pwd)/trainer \\\n",
    "    --job-dir=${OUTDIR} \\\n",
    "    --staging-bucket=gs://${BUCKET} \\\n",
    "    --master-machine-type=n1-standard-8 \\\n",
    "    --scale-tier=CUSTOM \\\n",
    "    --config=hyperparam/hyperparam.yaml \\\n",
    "    --runtime-version=${TFVERSION} \\\n",
    "    --python-version=${PYTHONVERSION} \\\n",
    "    -- \\\n",
    "    --train_data_path=gs://predict-babyweight-10142021/datasets_preprocessed_Dataflow/train.csv*  \\\n",
    "    --eval_data_path=gs://predict-babyweight-10142021/datasets_preprocessed_Dataflow/eval.csv*  \\\n",
    "    --output_dir=${OUTDIR} \\\n",
    "    --num_epochs=10 \\\n",
    "    --train_examples=10000 \\\n",
    "    --eval_steps=100 \\"
   ],
   "outputs": [
    {
     "output_type": "stream",
     "name": "stdout",
     "text": [
      "gs://predict-babyweight-10142021/hyperparam us-central1 babyweight_211023_071146\n",
      "jobId: babyweight_211023_071146\n",
      "state: QUEUED\n"
     ]
    },
    {
     "output_type": "stream",
     "name": "stderr",
     "text": [
      "CommandException: 1 files/objects could not be removed.\n",
      "Job [babyweight_211023_071146] submitted successfully.\n",
      "Your job is still active. You may view the status of your job with the command\n",
      "\n",
      "  $ gcloud ai-platform jobs describe babyweight_211023_071146\n",
      "\n",
      "or continue streaming the logs with the command\n",
      "\n",
      "  $ gcloud ai-platform jobs stream-logs babyweight_211023_071146\n"
     ]
    }
   ],
   "metadata": {}
  },
  {
   "cell_type": "markdown",
   "source": [
    "## Repeat training with the new hyperparameters found from the tuning\n",
    "\n",
    "The tuning job was completed after ~1h20mins. The output obtained from the job shows the best performance info below:\n",
    "\n",
    "    finalMetric:\n",
    "      objectiveValue: 1.0123\n",
    "      trainingStep: '10'\n",
    "    hyperparameters:\n",
    "      batch_size: '20'\n",
    "      nembeds: '27'\n",
    "      nnsize: '205'\n",
    "      \n",
    "Let's use these new hyperparameter values for the final training.\n",
    "      "
   ],
   "metadata": {}
  },
  {
   "cell_type": "code",
   "execution_count": 13,
   "source": [
    "%%bash\n",
    "\n",
    "OUTDIR=gs://${BUCKET}/model_trained_Dataflow_tuned\n",
    "JOBID=babyweight_$(date -u +%y%m%d_%H%M%S)\n",
    "\n",
    "gcloud ai-platform jobs submit training ${JOBID} \\\n",
    "    --region=${REGION} \\\n",
    "    --module-name=trainer.task \\\n",
    "    --package-path=$(pwd)/trainer \\\n",
    "    --job-dir=${OUTDIR} \\\n",
    "    --staging-bucket=gs://${BUCKET} \\\n",
    "    --master-machine-type=n1-standard-8 \\\n",
    "    --scale-tier=CUSTOM \\\n",
    "    --runtime-version=${TFVERSION} \\\n",
    "    --python-version=${PYTHONVERSION} \\\n",
    "    -- \\\n",
    "    --train_data_path=gs://predict-babyweight-10142021/datasets_preprocessed_Dataflow/train.csv*  \\\n",
    "    --eval_data_path=gs://predict-babyweight-10142021/datasets_preprocessed_Dataflow/eval.csv*  \\\n",
    "    --output_dir=${OUTDIR} \\\n",
    "    --num_epochs=10 \\\n",
    "    --train_examples=10000 \\\n",
    "    --eval_steps=100 \\\n",
    "    --batch_size=20 \\\n",
    "    --nembeds=27 \\\n",
    "    --nnsize=205"
   ],
   "outputs": [
    {
     "output_type": "stream",
     "name": "stdout",
     "text": [
      "jobId: babyweight_211023_143616\n",
      "state: QUEUED\n"
     ]
    },
    {
     "output_type": "stream",
     "name": "stderr",
     "text": [
      "Job [babyweight_211023_143616] submitted successfully.\n",
      "Your job is still active. You may view the status of your job with the command\n",
      "\n",
      "  $ gcloud ai-platform jobs describe babyweight_211023_143616\n",
      "\n",
      "or continue streaming the logs with the command\n",
      "\n",
      "  $ gcloud ai-platform jobs stream-logs babyweight_211023_143616\n"
     ]
    }
   ],
   "metadata": {}
  },
  {
   "cell_type": "markdown",
   "source": [
    "Again, once it's done (after ~30mins), we can check the directory structure of the outputs of our final trained model."
   ],
   "metadata": {}
  },
  {
   "cell_type": "code",
   "execution_count": 14,
   "source": [
    "%%bash\n",
    "gsutil ls gs://${BUCKET}/model_trained_Dataflow_tuned"
   ],
   "outputs": [
    {
     "output_type": "stream",
     "name": "stdout",
     "text": [
      "gs://predict-babyweight-10142021/model_trained_Dataflow_tuned/\n",
      "gs://predict-babyweight-10142021/model_trained_Dataflow_tuned/20211023150249/\n",
      "gs://predict-babyweight-10142021/model_trained_Dataflow_tuned/checkpoints/\n"
     ]
    }
   ],
   "metadata": {}
  },
  {
   "cell_type": "markdown",
   "source": [
    "{\n",
    "  \"insertId\": \"7824ocg40s6z9o\",\n",
    "  \"jsonPayload\": {\n",
    "    \"levelname\": \"INFO\",\n",
    "    \"created\": 1635001368.7409413,\n",
    "    \"message\": \"50000/50000 - 154s - loss: 0.9519 - mse: 0.9519 - rmse: 0.9589 - r_squared: -3.2733e-02 - val_loss: 0.9253 - val_mse: 0.9253 - val_rmse: 0.9616 - val_r_squared: 0.0170\",\n",
    "    \"lineno\": 328,\n",
    "    \"pathname\": \"/runcloudml.py\"\n",
    "  },\n",
    "  \"resource\": {\n",
    "    \"type\": \"ml_job\",\n",
    "    \"labels\": {\n",
    "      \"project_id\": \"predict-babyweight-10142021\",\n",
    "      \"job_id\": \"babyweight_211023_143616\",\n",
    "      \"task_name\": \"master-replica-0\"\n",
    "    }\n",
    "  },\n",
    "  \"timestamp\": \"2021-10-23T15:02:48.740941285Z\",\n",
    "  \"severity\": \"INFO\",\n",
    "  \"labels\": {\n",
    "    \"compute.googleapis.com/resource_name\": \"cmle-training-741771706156483001\",\n",
    "    \"ml.googleapis.com/trial_type\": \"\",\n",
    "    \"ml.googleapis.com/job_id/log_area\": \"root\",\n",
    "    \"compute.googleapis.com/zone\": \"us-central1-c\",\n",
    "    \"ml.googleapis.com/trial_id\": \"\",\n",
    "    \"compute.googleapis.com/resource_id\": \"7947812095131230988\"\n",
    "  },\n",
    "  \"logName\": \"projects/predict-babyweight-10142021/logs/master-replica-0\",\n",
    "  \"receiveTimestamp\": \"2021-10-23T15:02:50.415808996Z\"\n",
    "}"
   ],
   "metadata": {}
  },
  {
   "cell_type": "markdown",
   "source": [
    "## Lab Summary: \n",
    "In this notebook, we set up the environment, created the trainer module's task.py to hold hyperparameter argparsing code, created the trainer module's model.py to hold Keras model code, ran the trainer module package locally, submitted a training job to Cloud AI Platform, and submitted a hyperparameter tuning job to Cloud AI Platform."
   ],
   "metadata": {
    "id": "WbYSpwrLX-rl"
   }
  }
 ],
 "metadata": {
  "colab": {
   "name": "train_keras_ai_platform_babyweight.ipynb",
   "provenance": []
  },
  "environment": {
   "name": "tf2-gpu.2-3.m81",
   "type": "gcloud",
   "uri": "gcr.io/deeplearning-platform-release/tf2-gpu.2-3:m81"
  },
  "kernelspec": {
   "display_name": "Python 3",
   "language": "python",
   "name": "python3"
  },
  "language_info": {
   "codemirror_mode": {
    "name": "ipython",
    "version": 3
   },
   "file_extension": ".py",
   "mimetype": "text/x-python",
   "name": "python",
   "nbconvert_exporter": "python",
   "pygments_lexer": "ipython3",
   "version": "3.7.10"
  }
 },
 "nbformat": 4,
 "nbformat_minor": 4
}