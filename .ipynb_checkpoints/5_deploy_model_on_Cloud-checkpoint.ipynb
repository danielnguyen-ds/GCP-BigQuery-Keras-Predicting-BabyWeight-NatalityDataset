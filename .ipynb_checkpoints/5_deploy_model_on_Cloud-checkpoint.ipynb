{
 "cells": [
  {
   "cell_type": "markdown",
   "metadata": {
    "id": "ATMAaybtk5CJ"
   },
   "source": [
    "# 5_deploy_model_on_Cloud_AI_Platform\n",
    "\n",
    "Once we've already built our Keras model on Cloud AI Platform, we'll be deploying our Keras model to Cloud AI Platform and creating predictions in this notebook."
   ]
  },
  {
   "cell_type": "markdown",
   "metadata": {
    "id": "hJ7ByvoXzpVI"
   },
   "source": [
    "## Set up environment variables and load necessary libraries"
   ]
  },
  {
   "cell_type": "code",
   "execution_count": 25,
   "metadata": {},
   "outputs": [],
   "source": [
    "import os"
   ]
  },
  {
   "cell_type": "code",
   "execution_count": 26,
   "metadata": {
    "id": "CRxQ2O4jk5CT",
    "outputId": "bf6d5ead-67b6-4f0c-9adf-d78fa2ecb120"
   },
   "outputs": [],
   "source": [
    "PROJECT = \"predict-babyweight-10142021\"\n",
    "BUCKET = PROJECT\n",
    "REGION = \"us-central1\"\n",
    "\n",
    "os.environ[\"PROJECT\"] = PROJECT\n",
    "os.environ[\"BUCKET\"] = BUCKET \n",
    "os.environ[\"REGION\"] = REGION\n",
    "os.environ[\"TFVERSION\"] = \"2.1\""
   ]
  },
  {
   "cell_type": "code",
   "execution_count": 27,
   "metadata": {},
   "outputs": [
    {
     "name": "stderr",
     "output_type": "stream",
     "text": [
      "Updated property [compute/region].\n",
      "Updated property [ai_platform/region].\n"
     ]
    }
   ],
   "source": [
    "%%bash\n",
    "gcloud config set compute/region $REGION\n",
    "gcloud config set ai_platform/region global"
   ]
  },
  {
   "cell_type": "markdown",
   "metadata": {
    "id": "pCqurqzOk5CU"
   },
   "source": [
    "## Check our trained model files in GCP bucket\n",
    "\n",
    "Let's check the directory structure of our outputs of our trained model."
   ]
  },
  {
   "cell_type": "code",
   "execution_count": 28,
   "metadata": {
    "id": "maX5xuLck5CV",
    "outputId": "fd6fd1dd-22f4-42b7-9db9-4db5bfbb860f"
   },
   "outputs": [
    {
     "name": "stdout",
     "output_type": "stream",
     "text": [
      "gs://predict-babyweight-10142021/model_trained_Dataflow_tuned/\n",
      "gs://predict-babyweight-10142021/model_trained_Dataflow_tuned/20211023150249/\n",
      "gs://predict-babyweight-10142021/model_trained_Dataflow_tuned/checkpoints/\n"
     ]
    }
   ],
   "source": [
    "%%bash\n",
    "gsutil ls gs://${BUCKET}/model_trained_Dataflow_tuned"
   ]
  },
  {
   "cell_type": "code",
   "execution_count": 29,
   "metadata": {
    "id": "iPEebtNqk5CV",
    "outputId": "c9557109-83c2-4e0d-d917-c2672943cf5a"
   },
   "outputs": [
    {
     "name": "stdout",
     "output_type": "stream",
     "text": [
      "gs://predict-babyweight-10142021/model_trained_Dataflow_tuned/20211023150249/\n",
      "gs://predict-babyweight-10142021/model_trained_Dataflow_tuned/20211023150249/saved_model.pb\n",
      "gs://predict-babyweight-10142021/model_trained_Dataflow_tuned/20211023150249/assets/\n",
      "gs://predict-babyweight-10142021/model_trained_Dataflow_tuned/20211023150249/variables/\n"
     ]
    }
   ],
   "source": [
    "%%bash\n",
    "MODEL_LOCATION=$(gsutil ls -ld -- gs://${BUCKET}/model_trained_Dataflow_tuned/2*)\n",
    "gsutil ls ${MODEL_LOCATION}"
   ]
  },
  {
   "cell_type": "markdown",
   "metadata": {
    "id": "dtuU2nBDk5CV"
   },
   "source": [
    "## Deploy the trained model to GCP"
   ]
  },
  {
   "cell_type": "code",
   "execution_count": 30,
   "metadata": {
    "id": "9YFH2cQIk5CW",
    "outputId": "0c20099d-b089-44f1-f4a9-ee195adeb7d7"
   },
   "outputs": [
    {
     "name": "stderr",
     "output_type": "stream",
     "text": [
      "Using endpoint [https://ml.googleapis.com/]\n",
      "Created ai platform model [projects/predict-babyweight-10142021/models/babyweight].\n",
      "Using endpoint [https://ml.googleapis.com/]\n",
      "Creating version (this might take a few minutes)......\n",
      ".........................................................................................................................................................................................................................................................................................................................................................done.\n"
     ]
    }
   ],
   "source": [
    "%%bash\n",
    "MODEL_NAME=\"babyweight\"\n",
    "MODEL_VERSION=\"v1\"\n",
    "MODEL_LOCATION=\"gs://predict-babyweight-10142021/model_trained_Dataflow_tuned/20211023150249/\"\n",
    "\n",
    "gcloud ai-platform models create ${MODEL_NAME} --regions ${REGION}\n",
    "gcloud ai-platform versions create ${MODEL_VERSION} \\\n",
    "    --model=${MODEL_NAME} \\\n",
    "    --origin=${MODEL_LOCATION} \\\n",
    "    --runtime-version=2.1 \\\n",
    "    --python-version=3.7"
   ]
  },
  {
   "cell_type": "markdown",
   "metadata": {
    "id": "09sZjjXuk5CW"
   },
   "source": [
    "## Make online prediction"
   ]
  },
  {
   "cell_type": "markdown",
   "metadata": {
    "id": "TJkOoc8gk5CX"
   },
   "source": [
    "### Use REST API call\n",
    "\n",
    "We can use the Python API to send a JSON request to the endpoint of the service to make it predict a baby's weight."
   ]
  },
  {
   "cell_type": "code",
   "execution_count": 31,
   "metadata": {
    "id": "ULWtp4KRk5CX",
    "outputId": "7fe7a02b-5ba3-405c-e80f-100e9a03e8e0"
   },
   "outputs": [
    {
     "name": "stdout",
     "output_type": "stream",
     "text": [
      "b'{\"predictions\": [{\"weight\": [7.472408771514893]}, {\"weight\": [7.3682379722595215]}, {\"weight\": [4.574194431304932]}, {\"weight\": [5.919671535491943]}]}'\n"
     ]
    }
   ],
   "source": [
    "from oauth2client.client import GoogleCredentials\n",
    "import requests\n",
    "import json\n",
    "\n",
    "MODEL_NAME = \"babyweight\" \n",
    "MODEL_VERSION = \"v1\"\n",
    "\n",
    "token = GoogleCredentials.get_application_default().get_access_token().access_token\n",
    "api = f\"https://ml.googleapis.com/v1/projects/{PROJECT}/models/{MODEL_NAME}/versions/{MODEL_VERSION}:predict\" \n",
    "headers = {\"Authorization\": \"Bearer \" + token }\n",
    "request_data = {\n",
    "    \"instances\": [\n",
    "        {\n",
    "        \"is_male\": \"True\",\n",
    "        \"mother_age\": 26.0,\n",
    "        \"plurality\": \"Single(1)\",\n",
    "        \"gestation_weeks\": 39,\n",
    "        \"cigarette_use\":\"True\",\n",
    "        \"alcohol_use\": \"True\"\n",
    "        },\n",
    "        {\n",
    "        \"is_male\": \"False\",\n",
    "        \"mother_age\": 29.0,\n",
    "        \"plurality\": \"Single(1)\",\n",
    "        \"gestation_weeks\": 38,\n",
    "        \"cigarette_use\":\"False\",\n",
    "        \"alcohol_use\": \"False\"\n",
    "        },\n",
    "        {\n",
    "        \"is_male\": \"True\",\n",
    "        \"mother_age\": 26.0,\n",
    "        \"plurality\": \"Triplets(3)\",\n",
    "        \"gestation_weeks\": 39,\n",
    "        \"cigarette_use\":\"Unknown\",\n",
    "        \"alcohol_use\": \"True\"\n",
    "        },\n",
    "        {\n",
    "        \"is_male\": \"Unknown\",\n",
    "        \"mother_age\": 29.0,\n",
    "        \"plurality\": \"Multiple(2+)\",\n",
    "        \"gestation_weeks\": 38,\n",
    "        \"cigarette_use\":\"Unknown\",\n",
    "        \"alcohol_use\": \"Unknown\"\n",
    "        },\n",
    "  ]\n",
    "}\n",
    "response = requests.post(api, json=request_data, headers=headers)\n",
    "print(response.content)"
   ]
  },
  {
   "cell_type": "markdown",
   "metadata": {
    "id": "AK0gbPAvk5CY"
   },
   "source": [
    "### Use gcloud shell API\n",
    "\n",
    "Also, we can use the gcloud shell API. Create a newline delimited JSON file with one instance per line and submit using gcloud."
   ]
  },
  {
   "cell_type": "code",
   "execution_count": 32,
   "metadata": {
    "id": "IcHj5fyhk5CY",
    "outputId": "b40ebfc7-5191-4de2-cac4-093efe69ab44"
   },
   "outputs": [
    {
     "name": "stdout",
     "output_type": "stream",
     "text": [
      "Overwriting json_samples/small_test.json\n"
     ]
    }
   ],
   "source": [
    "%%writefile json_samples/small_test.json\n",
    "{\"is_male\": \"True\", \"mother_age\": 26.0, \"plurality\": \"Single(1)\", \"gestation_weeks\": 39, \"cigarette_use\":\"True\",\"alcohol_use\": \"True\"}\n",
    "{\"is_male\": \"False\", \"mother_age\": 29.0, \"plurality\": \"Single(1)\", \"gestation_weeks\": 38,\"cigarette_use\":\"False\",\"alcohol_use\": \"False\"}"
   ]
  },
  {
   "cell_type": "markdown",
   "metadata": {
    "id": "ZpwkGII8k5CZ"
   },
   "source": [
    "Now call `gcloud ai-platform predict` using the JSON we just created and point to our deployed `model` and `version`."
   ]
  },
  {
   "cell_type": "code",
   "execution_count": 33,
   "metadata": {
    "id": "8QvEKRO6k5CZ",
    "outputId": "4c8a8286-c60f-4062-e006-07330b7437cd"
   },
   "outputs": [
    {
     "name": "stdout",
     "output_type": "stream",
     "text": [
      "WEIGHT\n",
      "[7.472409725189209]\n",
      "[7.368237018585205]\n"
     ]
    },
    {
     "name": "stderr",
     "output_type": "stream",
     "text": [
      "Using endpoint [https://ml.googleapis.com/]\n"
     ]
    }
   ],
   "source": [
    "%%bash\n",
    "gcloud ai-platform predict \\\n",
    "    --model=babyweight \\\n",
    "    --version=v1 \\\n",
    "    --json-instances=json_samples/small_test.json"
   ]
  },
  {
   "cell_type": "markdown",
   "metadata": {
    "id": "Ap0WrXUgk5Ca"
   },
   "source": [
    "## Summary:\n",
    "In this notebook, we deployed our trained Keras model to Cloud AI Platform and call this deployed model to make predictions via REST API and gcloud shell API."
   ]
  }
 ],
 "metadata": {
  "colab": {
   "name": "deploy_keras_ai_platform_babyweight.ipynb",
   "provenance": []
  },
  "environment": {
   "name": "tf2-gpu.2-3.m81",
   "type": "gcloud",
   "uri": "gcr.io/deeplearning-platform-release/tf2-gpu.2-3:m81"
  },
  "kernelspec": {
   "display_name": "Python 3",
   "language": "python",
   "name": "python3"
  },
  "language_info": {
   "codemirror_mode": {
    "name": "ipython",
    "version": 3
   },
   "file_extension": ".py",
   "mimetype": "text/x-python",
   "name": "python",
   "nbconvert_exporter": "python",
   "pygments_lexer": "ipython3",
   "version": "3.7.10"
  }
 },
 "nbformat": 4,
 "nbformat_minor": 4
}
