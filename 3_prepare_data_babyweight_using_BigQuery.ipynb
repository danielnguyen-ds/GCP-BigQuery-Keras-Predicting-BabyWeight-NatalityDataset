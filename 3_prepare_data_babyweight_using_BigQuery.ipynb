{
 "cells": [
  {
   "cell_type": "markdown",
   "source": [
    "# 3_prepare_data_babyweight\n",
    "\n",
    "**Learning Objectives**\n",
    "\n",
    "1. Setup up the environment\n",
    "1. Preprocess natality dataset\n",
    "1. Augment natality dataset\n",
    "1. Create the train and eval tables in BigQuery\n",
    "1. Export data from BigQuery to GCS in CSV format\n",
    "\n",
    "\n",
    "## Introduction \n",
    "In this notebook, we will prepare the babyweight dataset for model development and training to predict the weight of a baby before it is born.  We will use BigQuery to perform data augmentation and preprocessing which will be used for AutoML Tables, BigQuery ML, and Keras models trained on Cloud AI Platform.\n",
    "\n",
    "In this lab, we will set up the environment, create the project dataset, preprocess and augment natality dataset, create the train and eval tables in BigQuery, and export data from BigQuery to GCS in CSV format.\n",
    "\n"
   ],
   "metadata": {
    "id": "3o8Qof7Cy165"
   }
  },
  {
   "cell_type": "markdown",
   "source": [
    "## Set up environment variables and load necessary libraries"
   ],
   "metadata": {
    "id": "hJ7ByvoXzpVI"
   }
  },
  {
   "cell_type": "markdown",
   "source": [
    "Import necessary libraries."
   ],
   "metadata": {
    "id": "QJ_C-hvutYRD"
   }
  },
  {
   "cell_type": "code",
   "execution_count": 1,
   "source": [
    "import os\n",
    "from google.cloud import bigquery"
   ],
   "outputs": [],
   "metadata": {
    "id": "UpUkLEYKtYRE"
   }
  },
  {
   "cell_type": "code",
   "execution_count": 2,
   "source": [
    "PROJECT = \"predict-babyweight-10142021\"\n",
    "BUCKET = PROJECT\n",
    "REGION = \"us-central1\"\n",
    "\n",
    "os.environ[\"PROJECT\"] = PROJECT\n",
    "os.environ[\"BUCKET\"] = BUCKET \n",
    "os.environ[\"REGION\"] = REGION"
   ],
   "outputs": [],
   "metadata": {}
  },
  {
   "cell_type": "markdown",
   "source": [
    "## Create a BigQuery Dataset\n",
    "\n",
    "A BigQuery dataset is a container for tables, views, and models built with BigQuery ML. Let's create one called __babyweight__."
   ],
   "metadata": {}
  },
  {
   "cell_type": "code",
   "execution_count": 3,
   "source": [
    "%%bash\n",
    "\n",
    "# Create a BigQuery dataset for babyweight if it doesn't exist\n",
    "datasetexists=$(bq ls -d | grep -w babyweight)\n",
    "\n",
    "if [ -n \"$datasetexists\" ]; then\n",
    "    echo -e \"BigQuery dataset already exists, let's not recreate it.\"\n",
    "\n",
    "else\n",
    "    echo \"Creating BigQuery dataset titled: babyweight\"\n",
    "    \n",
    "    bq --location=US mk --dataset \\\n",
    "        --description \"Babyweight\" \\\n",
    "        $PROJECT:babyweight\n",
    "    echo \"Here are the current datasets:\"\n",
    "    bq ls\n",
    "fi"
   ],
   "outputs": [
    {
     "output_type": "stream",
     "name": "stdout",
     "text": [
      "BigQuery dataset already exists, let's not recreate it.\n"
     ]
    }
   ],
   "metadata": {}
  },
  {
   "cell_type": "markdown",
   "source": [
    "## Create the training and evaluation data tables\n",
    "\n",
    "First we are going to create a subset of the data limiting our columns to `weight_pounds`, `is_male`, `mother_age`, `plurality`, and `gestation_weeks` as well as some simple filtering and a column to hash on for repeatable splitting.\n",
    "\n",
    "* Note:  The dataset in the create table code below is the one created previously, e.g. \"babyweight\"."
   ],
   "metadata": {
    "id": "b2TuS1s9vREL"
   }
  },
  {
   "cell_type": "markdown",
   "source": [
    "### Preprocess and filter dataset\n",
    "\n",
    "We have some preprocessing and filtering we would like to do to get our data in the right format for training.\n",
    "\n",
    "Preprocessing:\n",
    "* Cast `is_male` from `BOOL` to `STRING`\n",
    "* Cast `plurality` from `INTEGER` to `STRING` where `[1, 2, 3, 4, 5]` becomes `[\"Single(1)\", \"Twins(2)\", \"Triplets(3)\", \"Quadruplets(4)\", \"Quintuplets(5)\"]`\n",
    "* Cast `cigarette_use`from `BOOL` to `STRING` where `NULL` becomes `Unknown`\n",
    "* Cast `alcohol_use`from `BOOL` to `STRING` where `NULL` becomes `Unknown`\n",
    "* Add `hashcolumn` hashing on `year`, `month`,`COALESCE(wday, day, 0)`,`IFNULL(state, \"Unknown\")`, and `IFNULL(mother_birth_state, \"Unknown\")`\n",
    "\n",
    "Filtering:\n",
    "* Only want data for years later than `2003`\n",
    "* Only want baby weights greater than `0`\n",
    "* Only want mothers whose age is greater than `0`\n",
    "* Only want plurality to be greater than `0`\n",
    "* Only want the number of weeks of gestation to be greater than `0`"
   ],
   "metadata": {
    "id": "-vGyv3WntYRH"
   }
  },
  {
   "cell_type": "code",
   "execution_count": 4,
   "source": [
    "%%bigquery\n",
    "CREATE OR REPLACE TABLE\n",
    "    babyweight.babyweight_2003 AS\n",
    "SELECT\n",
    "    weight_pounds,\n",
    "    CAST(is_male AS STRING) AS is_male,\n",
    "    mother_age,\n",
    "    CASE\n",
    "        WHEN plurality = 1 THEN \"Single(1)\"\n",
    "        WHEN plurality = 2 THEN \"Twins(2)\"\n",
    "        WHEN plurality = 3 THEN \"Triplets(3)\"\n",
    "        WHEN plurality = 4 THEN \"Quadruplets(4)\"\n",
    "        WHEN plurality = 5 THEN \"Quintuplets(5)\"\n",
    "    END AS plurality,\n",
    "    gestation_weeks,\n",
    "    IFNULL(CAST(cigarette_use AS STRING), \"Unknown\") AS cigarette_use,\n",
    "    IFNULL(CAST(alcohol_use AS STRING), \"Unknown\") AS alcohol_use,\n",
    "    ABS(FARM_FINGERPRINT(\n",
    "        CONCAT(\n",
    "            CAST(year AS STRING),\n",
    "            CAST(month AS STRING),\n",
    "            CAST(COALESCE(wday, day, 0)  AS STRING),\n",
    "            CAST(IFNULL(state, \"Unknown\") AS STRING),\n",
    "            CAST(IFNULL(mother_birth_state, \"Unknown\")  AS STRING)\n",
    "        )\n",
    "    )) AS hash_values\n",
    "FROM\n",
    "    publicdata.samples.natality\n",
    "WHERE\n",
    "    year > 2002\n",
    "    AND weight_pounds > 0\n",
    "    AND mother_age > 0\n",
    "    AND plurality > 0\n",
    "    AND gestation_weeks > 0"
   ],
   "outputs": [
    {
     "output_type": "execute_result",
     "data": {
      "text/html": [
       "<div>\n",
       "<style scoped>\n",
       "    .dataframe tbody tr th:only-of-type {\n",
       "        vertical-align: middle;\n",
       "    }\n",
       "\n",
       "    .dataframe tbody tr th {\n",
       "        vertical-align: top;\n",
       "    }\n",
       "\n",
       "    .dataframe thead th {\n",
       "        text-align: right;\n",
       "    }\n",
       "</style>\n",
       "<table border=\"1\" class=\"dataframe\">\n",
       "  <thead>\n",
       "    <tr style=\"text-align: right;\">\n",
       "      <th></th>\n",
       "    </tr>\n",
       "  </thead>\n",
       "  <tbody>\n",
       "  </tbody>\n",
       "</table>\n",
       "</div>"
      ],
      "text/plain": [
       "Empty DataFrame\n",
       "Columns: []\n",
       "Index: []"
      ]
     },
     "metadata": {},
     "execution_count": 4
    }
   ],
   "metadata": {
    "id": "evDq3h3NtYRH",
    "outputId": "98403982-bb6e-41c2-b114-bc066b5c8c5b"
   }
  },
  {
   "cell_type": "markdown",
   "source": [
    "### Augment dataset to simulate missing data\n",
    "\n",
    "Now we want to augment our dataset with our simulated babyweight data by setting all gender information to `Unknown` and setting plurality of all non-single births to `Multiple(2+)`."
   ],
   "metadata": {
    "id": "OzUvUKWJtYRI"
   }
  },
  {
   "cell_type": "code",
   "execution_count": 6,
   "source": [
    "%%bigquery\n",
    "CREATE OR REPLACE TABLE\n",
    "    babyweight.babyweight_2003_augmented AS\n",
    "SELECT\n",
    "    weight_pounds,\n",
    "    is_male,\n",
    "    mother_age,\n",
    "    plurality,\n",
    "    gestation_weeks,\n",
    "    cigarette_use,\n",
    "    alcohol_use,\n",
    "    hash_values\n",
    "FROM\n",
    "    babyweight.babyweight_2003\n",
    "UNION ALL\n",
    "SELECT\n",
    "    weight_pounds,\n",
    "    \"Unknown\" AS is_male,\n",
    "    mother_age,\n",
    "    CASE\n",
    "        WHEN plurality = \"Single(1)\" THEN plurality\n",
    "        ELSE \"Multiple(2+)\"\n",
    "    END AS plurality,\n",
    "    gestation_weeks,\n",
    "    cigarette_use,\n",
    "    alcohol_use,\n",
    "    hash_values\n",
    "FROM\n",
    "    babyweight.babyweight_2003"
   ],
   "outputs": [
    {
     "output_type": "execute_result",
     "data": {
      "text/html": [
       "<div>\n",
       "<style scoped>\n",
       "    .dataframe tbody tr th:only-of-type {\n",
       "        vertical-align: middle;\n",
       "    }\n",
       "\n",
       "    .dataframe tbody tr th {\n",
       "        vertical-align: top;\n",
       "    }\n",
       "\n",
       "    .dataframe thead th {\n",
       "        text-align: right;\n",
       "    }\n",
       "</style>\n",
       "<table border=\"1\" class=\"dataframe\">\n",
       "  <thead>\n",
       "    <tr style=\"text-align: right;\">\n",
       "      <th></th>\n",
       "    </tr>\n",
       "  </thead>\n",
       "  <tbody>\n",
       "  </tbody>\n",
       "</table>\n",
       "</div>"
      ],
      "text/plain": [
       "Empty DataFrame\n",
       "Columns: []\n",
       "Index: []"
      ]
     },
     "metadata": {},
     "execution_count": 6
    }
   ],
   "metadata": {
    "id": "jrxcoig7tYRI",
    "outputId": "88c1e38e-d8fe-4225-880a-67e98a01f6ee"
   }
  },
  {
   "cell_type": "markdown",
   "source": [
    "### Split augmented dataset into train and eval sets\n",
    "\n",
    "Using ` hash_values`, apply a modulo to get approximately a 80/15/5 train/eval/test split."
   ],
   "metadata": {
    "id": "dHgRpfa1tYRJ"
   }
  },
  {
   "cell_type": "markdown",
   "source": [
    "#### Split augmented dataset into train dataset"
   ],
   "metadata": {
    "id": "2Bzropn5tYRJ"
   }
  },
  {
   "cell_type": "code",
   "execution_count": 7,
   "source": [
    "%%bigquery\n",
    "CREATE OR REPLACE TABLE\n",
    "    babyweight.babyweight_2003_train AS\n",
    "SELECT\n",
    "    weight_pounds,\n",
    "    is_male,\n",
    "    mother_age,\n",
    "    plurality,\n",
    "    gestation_weeks,\n",
    "    cigarette_use,\n",
    "    alcohol_use,\n",
    "FROM\n",
    "    babyweight.babyweight_2003_augmented\n",
    "WHERE\n",
    "    MOD(hash_values, 100) < 80"
   ],
   "outputs": [
    {
     "output_type": "execute_result",
     "data": {
      "text/html": [
       "<div>\n",
       "<style scoped>\n",
       "    .dataframe tbody tr th:only-of-type {\n",
       "        vertical-align: middle;\n",
       "    }\n",
       "\n",
       "    .dataframe tbody tr th {\n",
       "        vertical-align: top;\n",
       "    }\n",
       "\n",
       "    .dataframe thead th {\n",
       "        text-align: right;\n",
       "    }\n",
       "</style>\n",
       "<table border=\"1\" class=\"dataframe\">\n",
       "  <thead>\n",
       "    <tr style=\"text-align: right;\">\n",
       "      <th></th>\n",
       "    </tr>\n",
       "  </thead>\n",
       "  <tbody>\n",
       "  </tbody>\n",
       "</table>\n",
       "</div>"
      ],
      "text/plain": [
       "Empty DataFrame\n",
       "Columns: []\n",
       "Index: []"
      ]
     },
     "metadata": {},
     "execution_count": 7
    }
   ],
   "metadata": {
    "id": "CMNRractvREL",
    "outputId": "0aa9d6f8-db89-4fd5-e012-4fd1657d30ae"
   }
  },
  {
   "cell_type": "markdown",
   "source": [
    "#### Split augmented dataset into eval dataset"
   ],
   "metadata": {
    "id": "b23PfPJJtYRK"
   }
  },
  {
   "cell_type": "code",
   "execution_count": 9,
   "source": [
    "%%bigquery\n",
    "CREATE OR REPLACE TABLE\n",
    "    babyweight.babyweight_2003_eval AS\n",
    "SELECT\n",
    "    weight_pounds,\n",
    "    is_male,\n",
    "    mother_age,\n",
    "    plurality,\n",
    "    gestation_weeks,\n",
    "    cigarette_use,\n",
    "    alcohol_use,\n",
    "FROM\n",
    "    babyweight.babyweight_2003_augmented\n",
    "WHERE\n",
    "    MOD(hash_values, 100) >= 80\n",
    "    AND MOD(hash_values, 100) < 95\n",
    "    "
   ],
   "outputs": [
    {
     "output_type": "execute_result",
     "data": {
      "text/html": [
       "<div>\n",
       "<style scoped>\n",
       "    .dataframe tbody tr th:only-of-type {\n",
       "        vertical-align: middle;\n",
       "    }\n",
       "\n",
       "    .dataframe tbody tr th {\n",
       "        vertical-align: top;\n",
       "    }\n",
       "\n",
       "    .dataframe thead th {\n",
       "        text-align: right;\n",
       "    }\n",
       "</style>\n",
       "<table border=\"1\" class=\"dataframe\">\n",
       "  <thead>\n",
       "    <tr style=\"text-align: right;\">\n",
       "      <th></th>\n",
       "    </tr>\n",
       "  </thead>\n",
       "  <tbody>\n",
       "  </tbody>\n",
       "</table>\n",
       "</div>"
      ],
      "text/plain": [
       "Empty DataFrame\n",
       "Columns: []\n",
       "Index: []"
      ]
     },
     "metadata": {},
     "execution_count": 9
    }
   ],
   "metadata": {
    "id": "B2vJfGObtYRK",
    "outputId": "14c2c8c7-39cf-4077-b69c-ccf69f1331f9"
   }
  },
  {
   "cell_type": "markdown",
   "source": [
    "#### Split augmented dataset into test dataset"
   ],
   "metadata": {}
  },
  {
   "cell_type": "code",
   "execution_count": 10,
   "source": [
    "%%bigquery\n",
    "CREATE OR REPLACE TABLE\n",
    "    babyweight.babyweight_2003_test AS\n",
    "SELECT\n",
    "    weight_pounds,\n",
    "    is_male,\n",
    "    mother_age,\n",
    "    plurality,\n",
    "    gestation_weeks,\n",
    "    cigarette_use,\n",
    "    alcohol_use,\n",
    "FROM\n",
    "    babyweight.babyweight_2003_augmented\n",
    "WHERE\n",
    "    MOD(hash_values, 100) >= 95"
   ],
   "outputs": [
    {
     "output_type": "execute_result",
     "data": {
      "text/html": [
       "<div>\n",
       "<style scoped>\n",
       "    .dataframe tbody tr th:only-of-type {\n",
       "        vertical-align: middle;\n",
       "    }\n",
       "\n",
       "    .dataframe tbody tr th {\n",
       "        vertical-align: top;\n",
       "    }\n",
       "\n",
       "    .dataframe thead th {\n",
       "        text-align: right;\n",
       "    }\n",
       "</style>\n",
       "<table border=\"1\" class=\"dataframe\">\n",
       "  <thead>\n",
       "    <tr style=\"text-align: right;\">\n",
       "      <th></th>\n",
       "    </tr>\n",
       "  </thead>\n",
       "  <tbody>\n",
       "  </tbody>\n",
       "</table>\n",
       "</div>"
      ],
      "text/plain": [
       "Empty DataFrame\n",
       "Columns: []\n",
       "Index: []"
      ]
     },
     "metadata": {},
     "execution_count": 10
    }
   ],
   "metadata": {}
  },
  {
   "cell_type": "markdown",
   "source": [
    "## Verify table creation\n",
    "\n",
    "Verify that you created the dataset and training data table."
   ],
   "metadata": {
    "id": "clnaaqQsXkwC"
   }
  },
  {
   "cell_type": "code",
   "execution_count": 11,
   "source": [
    "%%bigquery\n",
    "-- LIMIT 0 is a free query; this allows us to check that the table exists.\n",
    "SELECT * FROM babyweight.babyweight_2003_train\n",
    "LIMIT 0"
   ],
   "outputs": [
    {
     "output_type": "execute_result",
     "data": {
      "text/html": [
       "<div>\n",
       "<style scoped>\n",
       "    .dataframe tbody tr th:only-of-type {\n",
       "        vertical-align: middle;\n",
       "    }\n",
       "\n",
       "    .dataframe tbody tr th {\n",
       "        vertical-align: top;\n",
       "    }\n",
       "\n",
       "    .dataframe thead th {\n",
       "        text-align: right;\n",
       "    }\n",
       "</style>\n",
       "<table border=\"1\" class=\"dataframe\">\n",
       "  <thead>\n",
       "    <tr style=\"text-align: right;\">\n",
       "      <th></th>\n",
       "      <th>weight_pounds</th>\n",
       "      <th>is_male</th>\n",
       "      <th>mother_age</th>\n",
       "      <th>plurality</th>\n",
       "      <th>gestation_weeks</th>\n",
       "      <th>cigarette_use</th>\n",
       "      <th>alcohol_use</th>\n",
       "    </tr>\n",
       "  </thead>\n",
       "  <tbody>\n",
       "  </tbody>\n",
       "</table>\n",
       "</div>"
      ],
      "text/plain": [
       "Empty DataFrame\n",
       "Columns: [weight_pounds, is_male, mother_age, plurality, gestation_weeks, cigarette_use, alcohol_use]\n",
       "Index: []"
      ]
     },
     "metadata": {},
     "execution_count": 11
    }
   ],
   "metadata": {
    "id": "lGvtTitXtYRL",
    "outputId": "e0e83d86-75f3-4989-fc8b-fd29f481a563"
   }
  },
  {
   "cell_type": "code",
   "execution_count": 12,
   "source": [
    "%%bigquery\n",
    "-- LIMIT 0 is a free query; this allows us to check that the table exists.\n",
    "SELECT * FROM babyweight.babyweight_2003_eval\n",
    "LIMIT 0"
   ],
   "outputs": [
    {
     "output_type": "execute_result",
     "data": {
      "text/html": [
       "<div>\n",
       "<style scoped>\n",
       "    .dataframe tbody tr th:only-of-type {\n",
       "        vertical-align: middle;\n",
       "    }\n",
       "\n",
       "    .dataframe tbody tr th {\n",
       "        vertical-align: top;\n",
       "    }\n",
       "\n",
       "    .dataframe thead th {\n",
       "        text-align: right;\n",
       "    }\n",
       "</style>\n",
       "<table border=\"1\" class=\"dataframe\">\n",
       "  <thead>\n",
       "    <tr style=\"text-align: right;\">\n",
       "      <th></th>\n",
       "      <th>weight_pounds</th>\n",
       "      <th>is_male</th>\n",
       "      <th>mother_age</th>\n",
       "      <th>plurality</th>\n",
       "      <th>gestation_weeks</th>\n",
       "      <th>cigarette_use</th>\n",
       "      <th>alcohol_use</th>\n",
       "    </tr>\n",
       "  </thead>\n",
       "  <tbody>\n",
       "  </tbody>\n",
       "</table>\n",
       "</div>"
      ],
      "text/plain": [
       "Empty DataFrame\n",
       "Columns: [weight_pounds, is_male, mother_age, plurality, gestation_weeks, cigarette_use, alcohol_use]\n",
       "Index: []"
      ]
     },
     "metadata": {},
     "execution_count": 12
    }
   ],
   "metadata": {
    "id": "o2Ctc9QPtYRL",
    "outputId": "b68c3171-d63e-4134-c0ff-7fc0110bc221"
   }
  },
  {
   "cell_type": "markdown",
   "source": [
    "## Export from BigQuery to CSVs in GCS\n",
    "\n",
    "Use BigQuery Python API to export our train, eval, and test tables to Google Cloud Storage in the CSV format to be used later for TensorFlow/Keras training. \n",
    "\n",
    "We'll want to use the dataset we've been using above as well as repeat the process for both training, evaluation, and testing data."
   ],
   "metadata": {
    "id": "hY5O4Mg2tYRL"
   }
  },
  {
   "cell_type": "code",
   "execution_count": 14,
   "source": [
    "# Construct a BigQuery client object.\n",
    "client = bigquery.Client()\n",
    "\n",
    "dataset_name = \"babyweight\"\n",
    "\n",
    "# Create dataset reference object\n",
    "dataset_ref = client.dataset(\n",
    "    dataset_id=dataset_name, project=client.project)\n",
    "\n",
    "# Export both train and eval tables\n",
    "for step in [\"train\", \"eval\", \"test\"]:\n",
    "    destination_uri = os.path.join(\n",
    "        \"gs://\", BUCKET, dataset_name, \"data\", f\"{step}*.csv\")\n",
    "    table_name = f\"babyweight_2003_{step}\"\n",
    "    table_ref = dataset_ref.table(table_name)\n",
    "    extract_job = client.extract_table(\n",
    "        table_ref,\n",
    "        destination_uri,\n",
    "        location=\"US\", # Location must match that of the source table.\n",
    "    )  # API request\n",
    "    extract_job.result()  # Waits for job to complete.\n",
    "\n",
    "    print(f\"Exported {client.project}:{dataset_name}.{table_name} \\n to {destination_uri}\")"
   ],
   "outputs": [
    {
     "output_type": "stream",
     "name": "stdout",
     "text": [
      "Exported predict-babyweight-10142021:babyweight.babyweight_2003_train \n",
      " to gs://predict-babyweight-10142021/babyweight/data/train*.csv\n",
      "Exported predict-babyweight-10142021:babyweight.babyweight_2003_eval \n",
      " to gs://predict-babyweight-10142021/babyweight/data/eval*.csv\n",
      "Exported predict-babyweight-10142021:babyweight.babyweight_2003_test \n",
      " to gs://predict-babyweight-10142021/babyweight/data/test*.csv\n"
     ]
    }
   ],
   "metadata": {
    "id": "-Z1QbVdWtYRL",
    "outputId": "fea16d12-3b72-4148-8d87-4edad50fbedd"
   }
  },
  {
   "cell_type": "markdown",
   "source": [
    "## Verify CSV creation\n",
    "\n",
    "Verify that we correctly created the CSV files in our bucket."
   ],
   "metadata": {
    "id": "PPUXobrwtYRM"
   }
  },
  {
   "cell_type": "code",
   "execution_count": 15,
   "source": [
    "%%bash\n",
    "gsutil ls gs://${BUCKET}/babyweight/data/*.csv"
   ],
   "outputs": [
    {
     "output_type": "stream",
     "name": "stdout",
     "text": [
      "gs://predict-babyweight-10142021/babyweight/data/eval000000000000.csv\n",
      "gs://predict-babyweight-10142021/babyweight/data/test000000000000.csv\n",
      "gs://predict-babyweight-10142021/babyweight/data/train000000000000.csv\n",
      "gs://predict-babyweight-10142021/babyweight/data/train000000000001.csv\n",
      "gs://predict-babyweight-10142021/babyweight/data/train000000000002.csv\n",
      "gs://predict-babyweight-10142021/babyweight/data/train000000000003.csv\n",
      "gs://predict-babyweight-10142021/babyweight/data/train000000000004.csv\n"
     ]
    }
   ],
   "metadata": {
    "id": "iI2Q91qxtYRM",
    "outputId": "84010e2b-3f8c-4218-eca5-403d194d95fb"
   }
  },
  {
   "cell_type": "code",
   "execution_count": 16,
   "source": [
    "%%bash\n",
    "gsutil cat gs://predict-babyweight-10142021/babyweight/data/test000000000000.csv | head -5"
   ],
   "outputs": [
    {
     "output_type": "stream",
     "name": "stdout",
     "text": [
      "weight_pounds,is_male,mother_age,plurality,gestation_weeks,cigarette_use,alcohol_use\n",
      "1.43741394824,false,15,Single(1),22,false,false\n",
      "2.12525620568,false,42,Single(1),30,Unknown,Unknown\n",
      "2.18698563904,Unknown,42,Single(1),31,false,false\n",
      "6.3382900325,Unknown,43,Multiple(2+),45,false,false\n"
     ]
    }
   ],
   "metadata": {
    "id": "TxPE2peWtYRN",
    "outputId": "b5494ae5-9254-47a1-891b-da99c26f80a9"
   }
  },
  {
   "cell_type": "code",
   "execution_count": 17,
   "source": [
    "%%bash\n",
    "gsutil cat gs://predict-babyweight-10142021/babyweight/data/eval000000000000.csv| head -5"
   ],
   "outputs": [
    {
     "output_type": "stream",
     "name": "stdout",
     "text": [
      "weight_pounds,is_male,mother_age,plurality,gestation_weeks,cigarette_use,alcohol_use\n",
      "5.56226287026,true,15,Single(1),31,false,false\n",
      "4.629707502,true,46,Twins(2),28,false,false\n",
      "2.0502990366,true,46,Twins(2),26,Unknown,Unknown\n",
      "1.4991433816,true,43,Single(1),18,Unknown,Unknown\n"
     ]
    }
   ],
   "metadata": {
    "id": "rnEAXNRytYRN",
    "outputId": "260b4eb5-e1b1-4de7-9a9c-a81bba763e16"
   }
  },
  {
   "cell_type": "code",
   "execution_count": null,
   "source": [
    "%%bash\n",
    "gsutil cat gs://predict-babyweight-10142021/babyweight/data/test000000000000.csv| head -5"
   ],
   "outputs": [],
   "metadata": {}
  },
  {
   "cell_type": "markdown",
   "source": [
    "## Summary: \n",
    "In this notebook, we setup our environment, created a BigQuery dataset, preprocessed and augmented the natality dataset, created train and eval tables in BigQuery, and exported data from BigQuery to GCS in CSV format."
   ],
   "metadata": {
    "id": "kCTvP7MhtYRN"
   }
  }
 ],
 "metadata": {
  "colab": {
   "collapsed_sections": [],
   "name": "prepare_data_babyweight.ipynb",
   "provenance": []
  },
  "environment": {
   "name": "tf2-gpu.2-3.m81",
   "type": "gcloud",
   "uri": "gcr.io/deeplearning-platform-release/tf2-gpu.2-3:m81"
  },
  "kernelspec": {
   "display_name": "Python 3",
   "language": "python",
   "name": "python3"
  },
  "language_info": {
   "codemirror_mode": {
    "name": "ipython",
    "version": 3
   },
   "file_extension": ".py",
   "mimetype": "text/x-python",
   "name": "python",
   "nbconvert_exporter": "python",
   "pygments_lexer": "ipython3",
   "version": "3.7.10"
  }
 },
 "nbformat": 4,
 "nbformat_minor": 4
}